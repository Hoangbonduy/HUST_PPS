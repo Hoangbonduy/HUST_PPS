{
 "cells": [
  {
   "cell_type": "code",
   "execution_count": 7,
   "metadata": {},
   "outputs": [],
   "source": [
    "import numpy as np\n",
    "from HUST_PPS import LapBangTichLagrange, TinhCyLagrange, LapBangTinhCyLagrange, LapBangThuongLagrange, DaThucNoiSuyLagrange, Horner, HornerTinhDaoHam\n",
    "from HUST_PPS import ReadxyFromFile, FormatNumber"
   ]
  },
  {
   "cell_type": "markdown",
   "metadata": {},
   "source": [
    "1. Đọc File\n",
    "- Dòng đầu chứa x, mỗi số cách nhau bởi dấu cách\n",
    "- Dòng sau chứa y, mỗi số cách nhau bởi dấu cách"
   ]
  },
  {
   "cell_type": "code",
   "execution_count": 8,
   "metadata": {},
   "outputs": [
    {
     "name": "stdout",
     "output_type": "stream",
     "text": [
      "[1.2 1.4 1.6 1.8 2.  2.2 2.4]\n",
      "[0.3529 1.4501 2.6476 3.9216 5.2484 6.6055 7.9722]\n"
     ]
    }
   ],
   "source": [
    "file_path = '/workspaces/HUST_PPS/files/TimDaThucNoiSuyLagrange.txt' # Thay file_path\n",
    "x,y = ReadxyFromFile(file_path)\n",
    "print(x)\n",
    "print(y)"
   ]
  },
  {
   "cell_type": "code",
   "execution_count": 9,
   "metadata": {},
   "outputs": [],
   "source": [
    "FormatNumber(4)"
   ]
  },
  {
   "cell_type": "code",
   "execution_count": 10,
   "metadata": {},
   "outputs": [
    {
     "data": {
      "text/plain": [
       "array([[ 1. ,  0.2,  0.4,  0.6,  0.8,  1. ,  1.2],\n",
       "       [-0.2,  1. ,  0.2,  0.4,  0.6,  0.8,  1. ],\n",
       "       [-0.4, -0.2,  1. ,  0.2,  0.4,  0.6,  0.8],\n",
       "       [-0.6, -0.4, -0.2,  1. ,  0.2,  0.4,  0.6],\n",
       "       [-0.8, -0.6, -0.4, -0.2,  1. ,  0.2,  0.4],\n",
       "       [-1. , -0.8, -0.6, -0.4, -0.2,  1. ,  0.2],\n",
       "       [-1.2, -1. , -0.8, -0.6, -0.4, -0.2,  1. ]])"
      ]
     },
     "execution_count": 10,
     "metadata": {},
     "output_type": "execute_result"
    }
   ],
   "source": [
    "LapBangTinhCyLagrange(x,y)"
   ]
  },
  {
   "cell_type": "code",
   "execution_count": 11,
   "metadata": {},
   "outputs": [
    {
     "data": {
      "text/plain": [
       "array([    7.6584,  -188.8151,   861.849 , -1702.0833,  1708.4635,\n",
       "        -860.0911,   173.0078])"
      ]
     },
     "execution_count": 11,
     "metadata": {},
     "output_type": "execute_result"
    }
   ],
   "source": [
    "TinhCyLagrange(x,y)"
   ]
  },
  {
   "cell_type": "code",
   "execution_count": 12,
   "metadata": {},
   "outputs": [
    {
     "data": {
      "text/plain": [
       "array([[   0.    ,    0.    ,    0.    ,    0.    ,    0.    ,    0.    ,\n",
       "           0.    ,    1.    ],\n",
       "       [   0.    ,    0.    ,    0.    ,    0.    ,    0.    ,    0.    ,\n",
       "           1.    ,   -1.2   ],\n",
       "       [   0.    ,    0.    ,    0.    ,    0.    ,    0.    ,    1.    ,\n",
       "          -2.6   ,    1.68  ],\n",
       "       [   0.    ,    0.    ,    0.    ,    0.    ,    1.    ,   -4.2   ,\n",
       "           5.84  ,   -2.688 ],\n",
       "       [   0.    ,    0.    ,    0.    ,    1.    ,   -6.    ,   13.4   ,\n",
       "         -13.2   ,    4.8384],\n",
       "       [   0.    ,    0.    ,    1.    ,   -8.    ,   25.4   ,  -40.    ,\n",
       "          31.2384,   -9.6768],\n",
       "       [   0.    ,    1.    ,  -10.2   ,   43.    ,  -95.88  ,  119.2384,\n",
       "         -78.4013,   21.289 ],\n",
       "       [   1.    ,  -12.6   ,   67.48  , -199.08  ,  349.3504, -364.5734,\n",
       "         209.452 ,  -51.0935]])"
      ]
     },
     "execution_count": 12,
     "metadata": {},
     "output_type": "execute_result"
    }
   ],
   "source": [
    "LapBangTichLagrange(x)"
   ]
  },
  {
   "cell_type": "code",
   "execution_count": 13,
   "metadata": {},
   "outputs": [
    {
     "data": {
      "text/plain": [
       "array([[   1.    ,  -11.4   ,   53.8   , -134.52  ,  187.9264, -139.0618,\n",
       "          42.5779,    0.    ],\n",
       "       [   1.    ,  -11.2   ,   51.8   , -126.56  ,  172.1664, -123.5405,\n",
       "          36.4954,    0.    ],\n",
       "       [   1.    ,  -11.    ,   49.88  , -119.272 ,  158.5152, -110.9491,\n",
       "          31.9334,    0.    ],\n",
       "       [   1.    ,  -10.8   ,   48.04  , -112.608 ,  146.656 , -100.5926,\n",
       "          28.3853,    0.    ],\n",
       "       [   1.    ,  -10.6   ,   46.28  , -106.52  ,  136.3104,  -91.9526,\n",
       "          25.5468,   -0.    ],\n",
       "       [   1.    ,  -10.4   ,   44.6   , -100.96  ,  127.2384,  -84.649 ,\n",
       "          23.2243,    0.    ],\n",
       "       [   1.    ,  -10.2   ,   43.    ,  -95.88  ,  119.2384,  -78.4013,\n",
       "          21.289 ,   -0.    ]])"
      ]
     },
     "execution_count": 13,
     "metadata": {},
     "output_type": "execute_result"
    }
   ],
   "source": [
    "LapBangThuongLagrange(x)"
   ]
  },
  {
   "cell_type": "code",
   "execution_count": 14,
   "metadata": {},
   "outputs": [
    {
     "data": {
      "text/plain": [
       "array([-0.0109,  0.1393, -0.6931,  1.2565,  0.9315,  1.0418, -3.2868])"
      ]
     },
     "execution_count": 14,
     "metadata": {},
     "output_type": "execute_result"
    }
   ],
   "source": [
    "A = DaThucNoiSuyLagrange(x,y)\n",
    "A"
   ]
  },
  {
   "cell_type": "code",
   "execution_count": 15,
   "metadata": {},
   "outputs": [
    {
     "name": "stdout",
     "output_type": "stream",
     "text": [
      "0.3528999993144968\n",
      "1.4500999992105639\n",
      "2.647599999091507\n",
      "3.921599998956559\n",
      "5.248399998805326\n",
      "6.605499998637889\n",
      "7.972199998454883\n"
     ]
    }
   ],
   "source": [
    "for i in range(0,len(x)):\n",
    "    t = len(x) - 1\n",
    "    sum = 0\n",
    "    for j in range(0,len(A)):\n",
    "        sum += (A[j]*(x[i]**t))\n",
    "        t -= 1\n",
    "    print(sum)"
   ]
  },
  {
   "cell_type": "markdown",
   "metadata": {},
   "source": [
    "Tính f(3.95)"
   ]
  },
  {
   "cell_type": "code",
   "execution_count": 16,
   "metadata": {},
   "outputs": [
    {
     "data": {
      "text/plain": [
       "(array([-0.0109,  0.0965, -0.3121,  0.0237,  1.0249,  5.0903, 16.8198]),\n",
       " np.float64(16.819773927186834))"
      ]
     },
     "execution_count": 16,
     "metadata": {},
     "output_type": "execute_result"
    }
   ],
   "source": [
    "Horner(A,3.95)"
   ]
  },
  {
   "cell_type": "code",
   "execution_count": 17,
   "metadata": {},
   "outputs": [
    {
     "data": {
      "text/plain": [
       "np.float64(16.819773927186834)"
      ]
     },
     "execution_count": 17,
     "metadata": {},
     "output_type": "execute_result"
    }
   ],
   "source": [
    "_ , ans = Horner(A,3.95)\n",
    "ans"
   ]
  },
  {
   "cell_type": "markdown",
   "metadata": {},
   "source": [
    "Tính f'(3.95)"
   ]
  },
  {
   "cell_type": "code",
   "execution_count": 18,
   "metadata": {},
   "outputs": [
    {
     "data": {
      "text/plain": [
       "([array([-0.0109,  0.0965, -0.3121,  0.0237,  1.0249,  5.0903, 16.8198]),\n",
       "  array([-0.0109,  0.0536, -0.1004, -0.3729, -0.4479,  3.3212]),\n",
       "  array([-0.0109,  0.0107, -0.058 , -0.6018, -2.8249]),\n",
       "  array([-0.0109, -0.0321, -0.1848, -1.3318]),\n",
       "  array([-0.0109, -0.075 , -0.481 ]),\n",
       "  array([-0.0109, -0.1178]),\n",
       "  array([-0.0109])],\n",
       " [np.float64(16.819773927186834),\n",
       "  np.float64(3.3211574332268476),\n",
       "  np.float64(-5.649825167388128),\n",
       "  np.float64(-7.990917967314215),\n",
       "  np.float64(-11.543619790561872),\n",
       "  np.float64(-14.14062499956606),\n",
       "  np.float64(-7.812499999947704)])"
      ]
     },
     "execution_count": 18,
     "metadata": {},
     "output_type": "execute_result"
    }
   ],
   "source": [
    "HornerTinhDaoHam(A,3.95)"
   ]
  },
  {
   "cell_type": "code",
   "execution_count": 19,
   "metadata": {},
   "outputs": [
    {
     "data": {
      "text/plain": [
       "np.float64(3.3211574332268476)"
      ]
     },
     "execution_count": 19,
     "metadata": {},
     "output_type": "execute_result"
    }
   ],
   "source": [
    "_ , ans = HornerTinhDaoHam(A,3.95)\n",
    "ans[1]"
   ]
  }
 ],
 "metadata": {
  "kernelspec": {
   "display_name": "Python 3",
   "language": "python",
   "name": "python3"
  },
  "language_info": {
   "codemirror_mode": {
    "name": "ipython",
    "version": 3
   },
   "file_extension": ".py",
   "mimetype": "text/x-python",
   "name": "python",
   "nbconvert_exporter": "python",
   "pygments_lexer": "ipython3",
   "version": "3.12.1"
  }
 },
 "nbformat": 4,
 "nbformat_minor": 2
}
