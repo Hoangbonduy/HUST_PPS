{
 "cells": [
  {
   "cell_type": "code",
   "execution_count": 2,
   "metadata": {},
   "outputs": [
    {
     "ename": "ImportError",
     "evalue": "cannot import name 'DaThucNoiSuyLagrangeMocCachDeu' from partially initialized module 'HUST_PPS' (most likely due to a circular import) (c:\\Users\\Laptop\\anaconda3\\Lib\\site-packages\\HUST_PPS\\__init__.py)",
     "output_type": "error",
     "traceback": [
      "\u001b[1;31m---------------------------------------------------------------------------\u001b[0m",
      "\u001b[1;31mImportError\u001b[0m                               Traceback (most recent call last)",
      "Cell \u001b[1;32mIn[2], line 2\u001b[0m\n\u001b[0;32m      1\u001b[0m \u001b[38;5;28;01mimport\u001b[39;00m \u001b[38;5;21;01mnumpy\u001b[39;00m \u001b[38;5;28;01mas\u001b[39;00m \u001b[38;5;21;01mnp\u001b[39;00m\n\u001b[1;32m----> 2\u001b[0m \u001b[38;5;28;01mfrom\u001b[39;00m \u001b[38;5;21;01mHUST_PPS\u001b[39;00m \u001b[38;5;28;01mimport\u001b[39;00m LapBangTichLagrange, TinhCyLagrange, LapBangTinhCyLagrange, LapBangThuongLagrange, DaThucNoiSuyLagrange, Horner, HornerTinhDaoHam\n\u001b[0;32m      3\u001b[0m \u001b[38;5;28;01mfrom\u001b[39;00m \u001b[38;5;21;01mHUST_PPS\u001b[39;00m \u001b[38;5;28;01mimport\u001b[39;00m ReadxyFromFile, FormatNumber\n",
      "File \u001b[1;32mc:\\Users\\Laptop\\anaconda3\\Lib\\site-packages\\HUST_PPS\\__init__.py:14\u001b[0m\n\u001b[0;32m     12\u001b[0m \u001b[38;5;28;01mfrom\u001b[39;00m \u001b[38;5;21;01m.\u001b[39;00m\u001b[38;5;21;01mnoiSuyLagrange\u001b[39;00m \u001b[38;5;28;01mimport\u001b[39;00m LapBangThuongLagrangeMocCachDeu\n\u001b[0;32m     13\u001b[0m \u001b[38;5;28;01mfrom\u001b[39;00m \u001b[38;5;21;01m.\u001b[39;00m\u001b[38;5;21;01mnoiSuyLagrange\u001b[39;00m \u001b[38;5;28;01mimport\u001b[39;00m DaThucNoiSuyLagrangeMocCachDeuThamSoT\n\u001b[1;32m---> 14\u001b[0m \u001b[38;5;28;01mfrom\u001b[39;00m \u001b[38;5;21;01m.\u001b[39;00m\u001b[38;5;21;01mnoiSuyNewton\u001b[39;00m \u001b[38;5;28;01mimport\u001b[39;00m TinhTySaiPhan\n\u001b[0;32m     15\u001b[0m \u001b[38;5;28;01mfrom\u001b[39;00m \u001b[38;5;21;01m.\u001b[39;00m\u001b[38;5;21;01mnoiSuyNewton\u001b[39;00m \u001b[38;5;28;01mimport\u001b[39;00m DaThucNoiSuyNewton\n\u001b[0;32m     16\u001b[0m \u001b[38;5;28;01mfrom\u001b[39;00m \u001b[38;5;21;01m.\u001b[39;00m\u001b[38;5;21;01mnoiSuyNewton\u001b[39;00m \u001b[38;5;28;01mimport\u001b[39;00m TinhCyNewton\n",
      "File \u001b[1;32mc:\\Users\\Laptop\\anaconda3\\Lib\\site-packages\\HUST_PPS\\noiSuyNewton.py:4\u001b[0m\n\u001b[0;32m      2\u001b[0m \u001b[38;5;28;01mimport\u001b[39;00m \u001b[38;5;21;01msympy\u001b[39;00m \u001b[38;5;28;01mas\u001b[39;00m \u001b[38;5;21;01msp\u001b[39;00m\n\u001b[0;32m      3\u001b[0m \u001b[38;5;28;01mimport\u001b[39;00m \u001b[38;5;21;01mmath\u001b[39;00m\n\u001b[1;32m----> 4\u001b[0m \u001b[38;5;28;01mfrom\u001b[39;00m \u001b[38;5;21;01mHUST_PPS\u001b[39;00m \u001b[38;5;28;01mimport\u001b[39;00m LapBangTichLagrange, DaThucNoiSuyLagrangeMocCachDeu\n\u001b[0;32m      5\u001b[0m \u001b[38;5;28;01mfrom\u001b[39;00m \u001b[38;5;21;01msympy\u001b[39;00m \u001b[38;5;28;01mimport\u001b[39;00m symbols, Poly, expand, sympify\n\u001b[0;32m      7\u001b[0m \u001b[38;5;28;01mdef\u001b[39;00m \u001b[38;5;21mTinhTySaiPhan\u001b[39m(x: np\u001b[38;5;241m.\u001b[39mndarray, y: np\u001b[38;5;241m.\u001b[39mndarray):\n",
      "\u001b[1;31mImportError\u001b[0m: cannot import name 'DaThucNoiSuyLagrangeMocCachDeu' from partially initialized module 'HUST_PPS' (most likely due to a circular import) (c:\\Users\\Laptop\\anaconda3\\Lib\\site-packages\\HUST_PPS\\__init__.py)"
     ]
    }
   ],
   "source": [
    "import numpy as np\n",
    "from HUST_PPS import LapBangTichLagrange, TinhCyLagrange, LapBangTinhCyLagrange, LapBangThuongLagrange, DaThucNoiSuyLagrange, Horner, HornerTinhDaoHam\n",
    "from HUST_PPS import ReadxyFromFile, FormatNumber"
   ]
  },
  {
   "cell_type": "markdown",
   "metadata": {},
   "source": [
    "1. Đọc File\n",
    "- Dòng đầu chứa x, mỗi số cách nhau bởi dấu cách\n",
    "- Dòng sau chứa y, mỗi số cách nhau bởi dấu cách"
   ]
  },
  {
   "cell_type": "code",
   "execution_count": 27,
   "metadata": {},
   "outputs": [
    {
     "name": "stdout",
     "output_type": "stream",
     "text": [
      "[1.2 1.4 1.6 1.8 2.  2.2 2.4]\n",
      "[0.3529 1.4501 2.6476 3.9216 5.2484 6.6055 7.9722]\n"
     ]
    }
   ],
   "source": [
    "file_path = 'D:/Study/2024.1/PPS/HUST_PPS/files/TimDaThucNoiSuyLagrange.txt' # Thay file_path\n",
    "x,y = ReadxyFromFile(file_path)\n",
    "print(x)\n",
    "print(y)"
   ]
  },
  {
   "cell_type": "code",
   "execution_count": 28,
   "metadata": {},
   "outputs": [],
   "source": [
    "FormatNumber(4)"
   ]
  },
  {
   "cell_type": "code",
   "execution_count": 29,
   "metadata": {},
   "outputs": [
    {
     "data": {
      "text/plain": [
       "array([[ 1. ,  0.2,  0.4,  0.6,  0.8,  1. ,  1.2],\n",
       "       [-0.2,  1. ,  0.2,  0.4,  0.6,  0.8,  1. ],\n",
       "       [-0.4, -0.2,  1. ,  0.2,  0.4,  0.6,  0.8],\n",
       "       [-0.6, -0.4, -0.2,  1. ,  0.2,  0.4,  0.6],\n",
       "       [-0.8, -0.6, -0.4, -0.2,  1. ,  0.2,  0.4],\n",
       "       [-1. , -0.8, -0.6, -0.4, -0.2,  1. ,  0.2],\n",
       "       [-1.2, -1. , -0.8, -0.6, -0.4, -0.2,  1. ]])"
      ]
     },
     "execution_count": 29,
     "metadata": {},
     "output_type": "execute_result"
    }
   ],
   "source": [
    "LapBangTinhCyLagrange(x,y)"
   ]
  },
  {
   "cell_type": "code",
   "execution_count": 30,
   "metadata": {},
   "outputs": [
    {
     "data": {
      "text/plain": [
       "array([    7.6584,  -188.8151,   861.849 , -1702.0833,  1708.4635,\n",
       "        -860.0911,   173.0078])"
      ]
     },
     "execution_count": 30,
     "metadata": {},
     "output_type": "execute_result"
    }
   ],
   "source": [
    "TinhCyLagrange(x,y)"
   ]
  },
  {
   "cell_type": "code",
   "execution_count": 31,
   "metadata": {},
   "outputs": [
    {
     "data": {
      "text/plain": [
       "array([[   0.    ,    0.    ,    0.    ,    0.    ,    0.    ,    0.    ,\n",
       "           0.    ,    1.    ],\n",
       "       [   0.    ,    0.    ,    0.    ,    0.    ,    0.    ,    0.    ,\n",
       "           1.    ,   -1.2   ],\n",
       "       [   0.    ,    0.    ,    0.    ,    0.    ,    0.    ,    1.    ,\n",
       "          -2.6   ,    1.68  ],\n",
       "       [   0.    ,    0.    ,    0.    ,    0.    ,    1.    ,   -4.2   ,\n",
       "           5.84  ,   -2.688 ],\n",
       "       [   0.    ,    0.    ,    0.    ,    1.    ,   -6.    ,   13.4   ,\n",
       "         -13.2   ,    4.8384],\n",
       "       [   0.    ,    0.    ,    1.    ,   -8.    ,   25.4   ,  -40.    ,\n",
       "          31.2384,   -9.6768],\n",
       "       [   0.    ,    1.    ,  -10.2   ,   43.    ,  -95.88  ,  119.2384,\n",
       "         -78.4013,   21.289 ],\n",
       "       [   1.    ,  -12.6   ,   67.48  , -199.08  ,  349.3504, -364.5734,\n",
       "         209.452 ,  -51.0935]])"
      ]
     },
     "execution_count": 31,
     "metadata": {},
     "output_type": "execute_result"
    }
   ],
   "source": [
    "LapBangTichLagrange(x)"
   ]
  },
  {
   "cell_type": "code",
   "execution_count": 32,
   "metadata": {},
   "outputs": [
    {
     "data": {
      "text/plain": [
       "array([[   1.    ,  -11.4   ,   53.8   , -134.52  ,  187.9264, -139.0618,\n",
       "          42.5779,    0.    ],\n",
       "       [   1.    ,  -11.2   ,   51.8   , -126.56  ,  172.1664, -123.5405,\n",
       "          36.4954,    0.    ],\n",
       "       [   1.    ,  -11.    ,   49.88  , -119.272 ,  158.5152, -110.9491,\n",
       "          31.9334,    0.    ],\n",
       "       [   1.    ,  -10.8   ,   48.04  , -112.608 ,  146.656 , -100.5926,\n",
       "          28.3853,    0.    ],\n",
       "       [   1.    ,  -10.6   ,   46.28  , -106.52  ,  136.3104,  -91.9526,\n",
       "          25.5468,   -0.    ],\n",
       "       [   1.    ,  -10.4   ,   44.6   , -100.96  ,  127.2384,  -84.649 ,\n",
       "          23.2243,    0.    ],\n",
       "       [   1.    ,  -10.2   ,   43.    ,  -95.88  ,  119.2384,  -78.4013,\n",
       "          21.289 ,   -0.    ]])"
      ]
     },
     "execution_count": 32,
     "metadata": {},
     "output_type": "execute_result"
    }
   ],
   "source": [
    "LapBangThuongLagrange(x)"
   ]
  },
  {
   "cell_type": "code",
   "execution_count": 33,
   "metadata": {},
   "outputs": [
    {
     "data": {
      "text/plain": [
       "array([-0.0109,  0.1393, -0.6931,  1.2565,  0.9315,  1.0418, -3.2868])"
      ]
     },
     "execution_count": 33,
     "metadata": {},
     "output_type": "execute_result"
    }
   ],
   "source": [
    "A = DaThucNoiSuyLagrange(x,y)\n",
    "A"
   ]
  },
  {
   "cell_type": "code",
   "execution_count": 38,
   "metadata": {},
   "outputs": [
    {
     "name": "stdout",
     "output_type": "stream",
     "text": [
      "0.3528999993144968\n",
      "1.4500999992105639\n",
      "2.647599999091507\n",
      "3.921599998956559\n",
      "5.248399998805326\n",
      "6.605499998637889\n",
      "7.972199998454883\n"
     ]
    }
   ],
   "source": [
    "for i in range(0,len(x)):\n",
    "    t = len(x) - 1\n",
    "    sum = 0\n",
    "    for j in range(0,len(A)):\n",
    "        sum += (A[j]*(x[i]**t))\n",
    "        t -= 1\n",
    "    print(sum)"
   ]
  },
  {
   "cell_type": "markdown",
   "metadata": {},
   "source": [
    "Tính f(3.95)"
   ]
  },
  {
   "cell_type": "code",
   "execution_count": 22,
   "metadata": {},
   "outputs": [
    {
     "data": {
      "text/plain": [
       "(array([ 0.0022, -0.0068,  0.0141, -0.1568,  1.1734,  4.4265, 16.5452]),\n",
       " np.float64(16.545183128264128))"
      ]
     },
     "execution_count": 22,
     "metadata": {},
     "output_type": "execute_result"
    }
   ],
   "source": [
    "Horner(A,3.95)"
   ]
  },
  {
   "cell_type": "code",
   "execution_count": 23,
   "metadata": {},
   "outputs": [
    {
     "data": {
      "text/plain": [
       "np.float64(16.545183128264128)"
      ]
     },
     "execution_count": 23,
     "metadata": {},
     "output_type": "execute_result"
    }
   ],
   "source": [
    "_ , ans = Horner(A,3.95)\n",
    "ans"
   ]
  },
  {
   "cell_type": "markdown",
   "metadata": {},
   "source": [
    "Tính f'(3.95)"
   ]
  },
  {
   "cell_type": "code",
   "execution_count": 24,
   "metadata": {},
   "outputs": [
    {
     "data": {
      "text/plain": [
       "([array([ 0.0022, -0.0068,  0.0141, -0.1568,  1.1734,  4.4265, 16.5452]),\n",
       "  array([ 0.0022,  0.0018,  0.0212, -0.0732,  0.8844,  7.9197]),\n",
       "  array([0.0022, 0.0104, 0.0621, 0.172 , 1.5636]),\n",
       "  array([0.0022, 0.0189, 0.1368, 0.7124]),\n",
       "  array([0.0022, 0.0275, 0.2454]),\n",
       "  array([0.0022, 0.0361]),\n",
       "  array([0.0022])],\n",
       " [np.float64(16.545183128264128),\n",
       "  np.float64(7.919744858315024),\n",
       "  np.float64(3.127222839806257),\n",
       "  np.float64(4.274121090589295),\n",
       "  np.float64(5.889973957444478),\n",
       "  np.float64(4.328124999955436),\n",
       "  np.float64(1.56250000001819)])"
      ]
     },
     "execution_count": 24,
     "metadata": {},
     "output_type": "execute_result"
    }
   ],
   "source": [
    "HornerTinhDaoHam(A,3.95)"
   ]
  },
  {
   "cell_type": "code",
   "execution_count": 25,
   "metadata": {},
   "outputs": [
    {
     "data": {
      "text/plain": [
       "np.float64(7.919744858315024)"
      ]
     },
     "execution_count": 25,
     "metadata": {},
     "output_type": "execute_result"
    }
   ],
   "source": [
    "_ , ans = HornerTinhDaoHam(A,3.95)\n",
    "ans[1]"
   ]
  }
 ],
 "metadata": {
  "kernelspec": {
   "display_name": "base",
   "language": "python",
   "name": "python3"
  },
  "language_info": {
   "codemirror_mode": {
    "name": "ipython",
    "version": 3
   },
   "file_extension": ".py",
   "mimetype": "text/x-python",
   "name": "python",
   "nbconvert_exporter": "python",
   "pygments_lexer": "ipython3",
   "version": "3.11.5"
  }
 },
 "nbformat": 4,
 "nbformat_minor": 2
}
