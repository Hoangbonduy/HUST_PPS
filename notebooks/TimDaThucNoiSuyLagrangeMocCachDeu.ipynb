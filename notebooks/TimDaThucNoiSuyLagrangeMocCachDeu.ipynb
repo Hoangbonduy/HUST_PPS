{
 "cells": [
  {
   "cell_type": "code",
   "execution_count": 1,
   "metadata": {},
   "outputs": [],
   "source": [
    "import numpy as np\n",
    "from HUST_PPS import LapBangTinhCyLagrange, TinhDyLagrangeMocCachDeu, LapBangTichLagrangeMocCachDeu, LapBangThuongLagrangeMocCachDeu, DaThucNoiSuyLagrangeMocCachDeuThamSoT, DaThucNoiSuyLagrangeMocCachDeu, HornerChiaDaThuc\n",
    "from HUST_PPS import TaoGiaTriXMocCachDeu, FormatNumber"
   ]
  },
  {
   "cell_type": "code",
   "execution_count": 2,
   "metadata": {},
   "outputs": [],
   "source": [
    "FormatNumber(5)"
   ]
  },
  {
   "cell_type": "code",
   "execution_count": 3,
   "metadata": {},
   "outputs": [
    {
     "data": {
      "text/plain": [
       "array([1.2, 1.4, 1.6, 1.8, 2. , 2.2, 2.4])"
      ]
     },
     "execution_count": 3,
     "metadata": {},
     "output_type": "execute_result"
    }
   ],
   "source": [
    "x = TaoGiaTriXMocCachDeu(1.2,0.2,7)\n",
    "x"
   ]
  },
  {
   "cell_type": "code",
   "execution_count": 4,
   "metadata": {},
   "outputs": [
    {
     "data": {
      "text/plain": [
       "array([0.35293, 1.4501 , 2.6476 , 3.92161, 5.24844, 6.6055 , 7.97218])"
      ]
     },
     "execution_count": 4,
     "metadata": {},
     "output_type": "execute_result"
    }
   ],
   "source": [
    "f_x = x**2 - 3*np.cos(x)\n",
    "y = np.array(f_x)\n",
    "y"
   ]
  },
  {
   "cell_type": "code",
   "execution_count": 5,
   "metadata": {},
   "outputs": [
    {
     "data": {
      "text/plain": [
       "array([0., 1., 2., 3., 4., 5., 6.])"
      ]
     },
     "execution_count": 5,
     "metadata": {},
     "output_type": "execute_result"
    }
   ],
   "source": [
    "t_ar = (x-1.2)/0.2\n",
    "t_ar"
   ]
  },
  {
   "cell_type": "code",
   "execution_count": 6,
   "metadata": {},
   "outputs": [
    {
     "data": {
      "text/plain": [
       "array([[ 1. ,  0.2,  0.4,  0.6,  0.8,  1. ,  1.2],\n",
       "       [-0.2,  1. ,  0.2,  0.4,  0.6,  0.8,  1. ],\n",
       "       [-0.4, -0.2,  1. ,  0.2,  0.4,  0.6,  0.8],\n",
       "       [-0.6, -0.4, -0.2,  1. ,  0.2,  0.4,  0.6],\n",
       "       [-0.8, -0.6, -0.4, -0.2,  1. ,  0.2,  0.4],\n",
       "       [-1. , -0.8, -0.6, -0.4, -0.2,  1. ,  0.2],\n",
       "       [-1.2, -1. , -0.8, -0.6, -0.4, -0.2,  1. ]])"
      ]
     },
     "execution_count": 6,
     "metadata": {},
     "output_type": "execute_result"
    }
   ],
   "source": [
    "LapBangTinhCyLagrange(x,y)"
   ]
  },
  {
   "cell_type": "code",
   "execution_count": 7,
   "metadata": {},
   "outputs": [
    {
     "data": {
      "text/plain": [
       "array([ 0.00049, -0.01208,  0.05516, -0.10893,  0.10934, -0.05505,\n",
       "        0.01107])"
      ]
     },
     "execution_count": 7,
     "metadata": {},
     "output_type": "execute_result"
    }
   ],
   "source": [
    "TinhDyLagrangeMocCachDeu(y,6)"
   ]
  },
  {
   "cell_type": "code",
   "execution_count": 8,
   "metadata": {},
   "outputs": [
    {
     "data": {
      "text/plain": [
       "array([[    0.,     0.,     0.,     0.,     0.,     0.,     0.,     1.],\n",
       "       [    0.,     0.,     0.,     0.,     0.,     0.,     1.,    -0.],\n",
       "       [    0.,     0.,     0.,     0.,     0.,     1.,    -1.,     0.],\n",
       "       [    0.,     0.,     0.,     0.,     1.,    -3.,     2.,    -0.],\n",
       "       [    0.,     0.,     0.,     1.,    -6.,    11.,    -6.,     0.],\n",
       "       [    0.,     0.,     1.,   -10.,    35.,   -50.,    24.,    -0.],\n",
       "       [    0.,     1.,   -15.,    85.,  -225.,   274.,  -120.,     0.],\n",
       "       [    1.,   -21.,   175.,  -735.,  1624., -1764.,   720.,    -0.]])"
      ]
     },
     "execution_count": 8,
     "metadata": {},
     "output_type": "execute_result"
    }
   ],
   "source": [
    "LapBangTichLagrangeMocCachDeu(6)"
   ]
  },
  {
   "cell_type": "code",
   "execution_count": 9,
   "metadata": {},
   "outputs": [
    {
     "data": {
      "text/plain": [
       "array([[    1.,   -21.,   175.,  -735.,  1624., -1764.,   720.,     0.],\n",
       "       [    1.,   -20.,   155.,  -580.,  1044.,  -720.,     0.,     0.],\n",
       "       [    1.,   -19.,   137.,  -461.,   702.,  -360.,     0.,     0.],\n",
       "       [    1.,   -18.,   121.,  -372.,   508.,  -240.,     0.,     0.],\n",
       "       [    1.,   -17.,   107.,  -307.,   396.,  -180.,     0.,     0.],\n",
       "       [    1.,   -16.,    95.,  -260.,   324.,  -144.,     0.,     0.],\n",
       "       [    1.,   -15.,    85.,  -225.,   274.,  -120.,     0.,     0.]])"
      ]
     },
     "execution_count": 9,
     "metadata": {},
     "output_type": "execute_result"
    }
   ],
   "source": [
    "LapBangThuongLagrangeMocCachDeu(6)"
   ]
  },
  {
   "cell_type": "code",
   "execution_count": 10,
   "metadata": {},
   "outputs": [
    {
     "data": {
      "text/plain": [
       "array([-0.     ,  0.00001, -0.00008, -0.00372,  0.06173,  1.03923,\n",
       "        0.35293])"
      ]
     },
     "execution_count": 10,
     "metadata": {},
     "output_type": "execute_result"
    }
   ],
   "source": [
    "B = DaThucNoiSuyLagrangeMocCachDeuThamSoT(y,6)\n",
    "B"
   ]
  },
  {
   "cell_type": "markdown",
   "metadata": {},
   "source": [
    "Kiểm tra"
   ]
  },
  {
   "cell_type": "code",
   "execution_count": 11,
   "metadata": {},
   "outputs": [
    {
     "name": "stdout",
     "output_type": "stream",
     "text": [
      "0.3529267365699791\n",
      "1.4500985712992784\n",
      "2.6475985669038593\n",
      "3.9216062840792016\n",
      "5.248440509641188\n",
      "6.605503351765329\n",
      "7.97218114662201\n"
     ]
    }
   ],
   "source": [
    "for i in range(0,len(t_ar)):\n",
    "    t = len(t_ar) - 1\n",
    "    sum = 0\n",
    "    for j in range(0,len(B)):\n",
    "        sum += (B[j]*(t_ar[i]**t))\n",
    "        t -= 1\n",
    "    print(sum)"
   ]
  }
 ],
 "metadata": {
  "kernelspec": {
   "display_name": "base",
   "language": "python",
   "name": "python3"
  },
  "language_info": {
   "codemirror_mode": {
    "name": "ipython",
    "version": 3
   },
   "file_extension": ".py",
   "mimetype": "text/x-python",
   "name": "python",
   "nbconvert_exporter": "python",
   "pygments_lexer": "ipython3",
   "version": "3.11.5"
  }
 },
 "nbformat": 4,
 "nbformat_minor": 2
}
