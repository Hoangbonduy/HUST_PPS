{
 "cells": [
  {
   "cell_type": "code",
   "execution_count": 15,
   "metadata": {},
   "outputs": [],
   "source": [
    "import numpy as np\n",
    "from HUST_PPS import TinhBangSaiPhan, TinhBangSaiPhanGaussI, TinhCySaiPhanGaussI, LapBangTichGaussI, DaThucNoiSuyTrungTamGaussI\n",
    "from HUST_PPS import TinhBangSaiPhanGaussII, TinhCySaiPhanGaussII, LapBangTichGaussII, DaThucNoiSuyTrungTamGaussII\n",
    "from HUST_PPS import ReadxyFromFile, FormatNumber"
   ]
  },
  {
   "cell_type": "code",
   "execution_count": 16,
   "metadata": {},
   "outputs": [
    {
     "name": "stdout",
     "output_type": "stream",
     "text": [
      "[5.25  5.375 5.5   5.625 5.75  5.875 6.   ]\n",
      "[-3.2541 -3.4223 -3.5371 -3.5967 -3.6001 -3.5474 -3.4393]\n"
     ]
    }
   ],
   "source": [
    "file_path = 'D:/Study/2024.1/PPS/HUST_PPS/files/TimDaThucNoiSuyTrungTamGauss.txt' # Thay file_path\n",
    "x,y = ReadxyFromFile(file_path)\n",
    "print(x)\n",
    "print(y)"
   ]
  },
  {
   "cell_type": "code",
   "execution_count": 17,
   "metadata": {},
   "outputs": [],
   "source": [
    "FormatNumber(6)"
   ]
  },
  {
   "cell_type": "code",
   "execution_count": 18,
   "metadata": {},
   "outputs": [
    {
     "name": "stdout",
     "output_type": "stream",
     "text": [
      "Số n thỏa mãn\n"
     ]
    }
   ],
   "source": [
    "if len(x) % 2 != 0 and len(x) > 1:\n",
    "    print(\"Số n thỏa mãn\") # n = 2k+1\n",
    "else:\n",
    "    print(\"Số n không thỏa mãn\")"
   ]
  },
  {
   "cell_type": "markdown",
   "metadata": {},
   "source": [
    "Gauss I"
   ]
  },
  {
   "cell_type": "code",
   "execution_count": 19,
   "metadata": {},
   "outputs": [
    {
     "data": {
      "text/plain": [
       "array([[ 5.25  , -3.2541,  0.    ,  0.    ,  0.    ,  0.    ,  0.    ,\n",
       "         0.    ],\n",
       "       [ 5.375 , -3.4223, -0.1682,  0.    ,  0.    ,  0.    ,  0.    ,\n",
       "         0.    ],\n",
       "       [ 5.5   , -3.5371, -0.1148,  0.0534,  0.    ,  0.    ,  0.    ,\n",
       "         0.    ],\n",
       "       [ 5.625 , -3.5967, -0.0596,  0.0552,  0.0018,  0.    ,  0.    ,\n",
       "         0.    ],\n",
       "       [ 5.75  , -3.6001, -0.0034,  0.0562,  0.001 , -0.0008,  0.    ,\n",
       "         0.    ],\n",
       "       [ 5.875 , -3.5474,  0.0527,  0.0561, -0.0001, -0.0011, -0.0003,\n",
       "         0.    ],\n",
       "       [ 6.    , -3.4393,  0.1081,  0.0554, -0.0007, -0.0006,  0.0005,\n",
       "         0.0008]])"
      ]
     },
     "execution_count": 19,
     "metadata": {},
     "output_type": "execute_result"
    }
   ],
   "source": [
    "TinhBangSaiPhan(x,y)"
   ]
  },
  {
   "cell_type": "code",
   "execution_count": 20,
   "metadata": {},
   "outputs": [
    {
     "data": {
      "text/plain": [
       "array([-3.5967, -0.0034,  0.0562, -0.0001, -0.0011,  0.0005,  0.0008])"
      ]
     },
     "execution_count": 20,
     "metadata": {},
     "output_type": "execute_result"
    }
   ],
   "source": [
    "TinhBangSaiPhanGaussI(x,y,len(x))"
   ]
  },
  {
   "cell_type": "code",
   "execution_count": 21,
   "metadata": {},
   "outputs": [
    {
     "data": {
      "text/plain": [
       "array([-3.5967  , -0.0034  ,  0.0281  , -0.000017, -0.000046,  0.000004,\n",
       "        0.000001])"
      ]
     },
     "execution_count": 21,
     "metadata": {},
     "output_type": "execute_result"
    }
   ],
   "source": [
    "TinhCySaiPhanGaussI(x,y,len(x))"
   ]
  },
  {
   "cell_type": "code",
   "execution_count": 22,
   "metadata": {},
   "outputs": [
    {
     "data": {
      "text/plain": [
       "array([[  0.,   0.,   0.,   0.,   0.,   0.,   1.],\n",
       "       [  0.,   0.,   0.,   0.,   0.,   1.,   0.],\n",
       "       [  0.,   0.,   0.,   0.,   1.,  -1.,   0.],\n",
       "       [  0.,   0.,   0.,   1.,   0.,  -1.,   0.],\n",
       "       [  0.,   0.,   1.,  -2.,  -1.,   2.,   0.],\n",
       "       [  0.,   1.,   0.,  -5.,   0.,   4.,   0.],\n",
       "       [  1.,  -3.,  -5.,  15.,   4., -12.,   0.]])"
      ]
     },
     "execution_count": 22,
     "metadata": {},
     "output_type": "execute_result"
    }
   ],
   "source": [
    "LapBangTichGaussI(len(x))"
   ]
  },
  {
   "cell_type": "code",
   "execution_count": 23,
   "metadata": {},
   "outputs": [
    {
     "data": {
      "text/plain": [
       "array([ 0.000001,  0.000001, -0.000051,  0.000071,  0.02815 , -0.031572,\n",
       "       -3.5967  ])"
      ]
     },
     "execution_count": 23,
     "metadata": {},
     "output_type": "execute_result"
    }
   ],
   "source": [
    "DaThucNoiSuyTrungTamGaussI(x,y,len(x))"
   ]
  },
  {
   "cell_type": "markdown",
   "metadata": {},
   "source": [
    "Gauss II"
   ]
  },
  {
   "cell_type": "code",
   "execution_count": 24,
   "metadata": {},
   "outputs": [
    {
     "data": {
      "text/plain": [
       "array([[ 5.25  , -3.2541,  0.    ,  0.    ,  0.    ,  0.    ,  0.    ,\n",
       "         0.    ],\n",
       "       [ 5.375 , -3.4223, -0.1682,  0.    ,  0.    ,  0.    ,  0.    ,\n",
       "         0.    ],\n",
       "       [ 5.5   , -3.5371, -0.1148,  0.0534,  0.    ,  0.    ,  0.    ,\n",
       "         0.    ],\n",
       "       [ 5.625 , -3.5967, -0.0596,  0.0552,  0.0018,  0.    ,  0.    ,\n",
       "         0.    ],\n",
       "       [ 5.75  , -3.6001, -0.0034,  0.0562,  0.001 , -0.0008,  0.    ,\n",
       "         0.    ],\n",
       "       [ 5.875 , -3.5474,  0.0527,  0.0561, -0.0001, -0.0011, -0.0003,\n",
       "         0.    ],\n",
       "       [ 6.    , -3.4393,  0.1081,  0.0554, -0.0007, -0.0006,  0.0005,\n",
       "         0.0008]])"
      ]
     },
     "execution_count": 24,
     "metadata": {},
     "output_type": "execute_result"
    }
   ],
   "source": [
    "TinhBangSaiPhan(x,y)"
   ]
  },
  {
   "cell_type": "code",
   "execution_count": 25,
   "metadata": {},
   "outputs": [
    {
     "data": {
      "text/plain": [
       "array([-3.5967, -0.0596,  0.0562,  0.001 , -0.0011, -0.0003,  0.0008])"
      ]
     },
     "execution_count": 25,
     "metadata": {},
     "output_type": "execute_result"
    }
   ],
   "source": [
    "TinhBangSaiPhanGaussII(x,y,len(x))"
   ]
  },
  {
   "cell_type": "code",
   "execution_count": 26,
   "metadata": {},
   "outputs": [
    {
     "data": {
      "text/plain": [
       "array([-3.5967  , -0.0596  ,  0.0281  ,  0.000167, -0.000046, -0.000002,\n",
       "        0.000001])"
      ]
     },
     "execution_count": 26,
     "metadata": {},
     "output_type": "execute_result"
    }
   ],
   "source": [
    "TinhCySaiPhanGaussII(x,y,len(x))"
   ]
  },
  {
   "cell_type": "code",
   "execution_count": 27,
   "metadata": {},
   "outputs": [
    {
     "data": {
      "text/plain": [
       "array([[  0.,   0.,   0.,   0.,   0.,   0.,   1.],\n",
       "       [  0.,   0.,   0.,   0.,   0.,   1.,   0.],\n",
       "       [  0.,   0.,   0.,   0.,   1.,   1.,   0.],\n",
       "       [  0.,   0.,   0.,   1.,   0.,  -1.,   0.],\n",
       "       [  0.,   0.,   1.,   2.,  -1.,  -2.,   0.],\n",
       "       [  0.,   1.,   0.,  -5.,   0.,   4.,   0.],\n",
       "       [  1.,   3.,  -5., -15.,   4.,  12.,   0.]])"
      ]
     },
     "execution_count": 27,
     "metadata": {},
     "output_type": "execute_result"
    }
   ],
   "source": [
    "LapBangTichGaussII(len(x))"
   ]
  },
  {
   "cell_type": "code",
   "execution_count": 28,
   "metadata": {},
   "outputs": [
    {
     "data": {
      "text/plain": [
       "array([ 0.000001,  0.000001, -0.000051,  0.000071,  0.02815 , -0.031572,\n",
       "       -3.5967  ])"
      ]
     },
     "execution_count": 28,
     "metadata": {},
     "output_type": "execute_result"
    }
   ],
   "source": [
    "DaThucNoiSuyTrungTamGaussII(x,y,len(x))"
   ]
  }
 ],
 "metadata": {
  "kernelspec": {
   "display_name": "base",
   "language": "python",
   "name": "python3"
  },
  "language_info": {
   "codemirror_mode": {
    "name": "ipython",
    "version": 3
   },
   "file_extension": ".py",
   "mimetype": "text/x-python",
   "name": "python",
   "nbconvert_exporter": "python",
   "pygments_lexer": "ipython3",
   "version": "3.11.5"
  }
 },
 "nbformat": 4,
 "nbformat_minor": 2
}
