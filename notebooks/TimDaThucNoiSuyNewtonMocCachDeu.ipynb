{
 "cells": [
  {
   "cell_type": "code",
   "execution_count": 13,
   "metadata": {},
   "outputs": [],
   "source": [
    "import numpy as np\n",
    "from HUST_PPS import TinhBangSaiPhan, ChonMoc, TinhCyNewtonMocCachDeu, LapBangTichNewtonMocCachDeu, DaThucNoiSuyNewtonMocCachDeuThamSoT, Horner, HornerTinhDaoHam\n",
    "from HUST_PPS import TaoGiaTriXMocCachDeu, FormatNumber"
   ]
  },
  {
   "cell_type": "markdown",
   "metadata": {},
   "source": [
    "f(x) = x^(1/4) + 2sin(x) - 3cos(x)\n",
    "x = 1, h = 0.118, n = 200\n",
    "Tính f(15.237), f'(15.237)"
   ]
  },
  {
   "cell_type": "code",
   "execution_count": 2,
   "metadata": {},
   "outputs": [],
   "source": [
    "FormatNumber(7)"
   ]
  },
  {
   "cell_type": "markdown",
   "metadata": {},
   "source": [
    "B1: Tính t"
   ]
  },
  {
   "cell_type": "code",
   "execution_count": 3,
   "metadata": {},
   "outputs": [],
   "source": [
    "num_x = 15.237\n",
    "h = 0.118\n",
    "n = 200\n",
    "somoc = 8\n",
    "x0 = 1"
   ]
  },
  {
   "cell_type": "code",
   "execution_count": 4,
   "metadata": {},
   "outputs": [
    {
     "name": "stdout",
     "output_type": "stream",
     "text": [
      "120.65254237288136\n",
      "117\n",
      "124\n"
     ]
    }
   ],
   "source": [
    "a1,a2,a3 = ChonMoc(x0,h,n,num_x,somoc)\n",
    "print(a1)\n",
    "print(a2)\n",
    "print(a3)"
   ]
  },
  {
   "cell_type": "code",
   "execution_count": 5,
   "metadata": {},
   "outputs": [
    {
     "data": {
      "text/plain": [
       "array([14.806, 14.924, 15.042, 15.16 , 15.278, 15.396, 15.514, 15.632])"
      ]
     },
     "execution_count": 5,
     "metadata": {},
     "output_type": "execute_result"
    }
   ],
   "source": [
    "x_start = x0 + 117*h # x0 + moc_bat_dau*h\n",
    "x = TaoGiaTriXMocCachDeu(x_start,h,somoc)\n",
    "x"
   ]
  },
  {
   "cell_type": "code",
   "execution_count": 6,
   "metadata": {},
   "outputs": [
    {
     "data": {
      "text/plain": [
       "array([5.3908997, 5.502037 , 5.5639656, 5.5758783, 5.5376633, 5.4499057,\n",
       "       5.3138791, 5.1315285])"
      ]
     },
     "execution_count": 6,
     "metadata": {},
     "output_type": "execute_result"
    }
   ],
   "source": [
    "f_x = x**(1/4) + 2*np.sin(x) - 3*np.cos(x)\n",
    "y = np.array(f_x)\n",
    "y"
   ]
  },
  {
   "cell_type": "code",
   "execution_count": 7,
   "metadata": {},
   "outputs": [
    {
     "data": {
      "text/plain": [
       "array([0., 1., 2., 3., 4., 5., 6., 7.])"
      ]
     },
     "execution_count": 7,
     "metadata": {},
     "output_type": "execute_result"
    }
   ],
   "source": [
    "t_ar = (x-x[0])/h\n",
    "t_ar"
   ]
  },
  {
   "cell_type": "code",
   "execution_count": 8,
   "metadata": {},
   "outputs": [
    {
     "data": {
      "text/plain": [
       "array([[14.806    ,  5.3908997,  0.       ,  0.       ,  0.       ,\n",
       "         0.       ,  0.       ,  0.       ,  0.       ],\n",
       "       [14.924    ,  5.502037 ,  0.1111374,  0.       ,  0.       ,\n",
       "         0.       ,  0.       ,  0.       ,  0.       ],\n",
       "       [15.042    ,  5.5639656,  0.0619286, -0.0492088,  0.       ,\n",
       "         0.       ,  0.       ,  0.       ,  0.       ],\n",
       "       [15.16     ,  5.5758783,  0.0119127, -0.0500159, -0.0008071,\n",
       "         0.       ,  0.       ,  0.       ,  0.       ],\n",
       "       [15.278    ,  5.5376633, -0.038215 , -0.0501277, -0.0001118,\n",
       "         0.0006953,  0.       ,  0.       ,  0.       ],\n",
       "       [15.396    ,  5.4499057, -0.0877576, -0.0495427,  0.000585 ,\n",
       "         0.0006969,  0.0000016,  0.       ,  0.       ],\n",
       "       [15.514    ,  5.3138791, -0.1360265, -0.0482689,  0.0012738,\n",
       "         0.0006887, -0.0000081, -0.0000097,  0.       ],\n",
       "       [15.632    ,  5.1315285, -0.1823507, -0.0463241,  0.0019448,\n",
       "         0.000671 , -0.0000177, -0.0000096,  0.0000001]])"
      ]
     },
     "execution_count": 8,
     "metadata": {},
     "output_type": "execute_result"
    }
   ],
   "source": [
    "TinhBangSaiPhan(x,y)"
   ]
  },
  {
   "cell_type": "code",
   "execution_count": 9,
   "metadata": {},
   "outputs": [
    {
     "data": {
      "text/plain": [
       "array([ 5.3908997,  0.1111374, -0.0246044, -0.0001345,  0.000029 ,\n",
       "        0.       , -0.       ,  0.       ])"
      ]
     },
     "execution_count": 9,
     "metadata": {},
     "output_type": "execute_result"
    }
   ],
   "source": [
    "TinhCyNewtonMocCachDeu(x,y)"
   ]
  },
  {
   "cell_type": "code",
   "execution_count": 10,
   "metadata": {},
   "outputs": [
    {
     "data": {
      "text/plain": [
       "array([[    0.,     0.,     0.,     0.,     0.,     0.,     0.,     1.],\n",
       "       [    0.,     0.,     0.,     0.,     0.,     0.,     1.,    -0.],\n",
       "       [    0.,     0.,     0.,     0.,     0.,     1.,    -1.,     0.],\n",
       "       [    0.,     0.,     0.,     0.,     1.,    -3.,     2.,    -0.],\n",
       "       [    0.,     0.,     0.,     1.,    -6.,    11.,    -6.,     0.],\n",
       "       [    0.,     0.,     1.,   -10.,    35.,   -50.,    24.,    -0.],\n",
       "       [    0.,     1.,   -15.,    85.,  -225.,   274.,  -120.,     0.],\n",
       "       [    1.,   -21.,   175.,  -735.,  1624., -1764.,   720.,    -0.]])"
      ]
     },
     "execution_count": 10,
     "metadata": {},
     "output_type": "execute_result"
    }
   ],
   "source": [
    "LapBangTichNewtonMocCachDeu(7) # Đa thức Newton tiến t-(n-1), n = 7"
   ]
  },
  {
   "cell_type": "code",
   "execution_count": 11,
   "metadata": {},
   "outputs": [
    {
     "data": {
      "text/plain": [
       "array([ 0.       , -0.       ,  0.0000002,  0.0000277, -0.0003048,\n",
       "       -0.0238865,  0.1353008,  5.3908997])"
      ]
     },
     "execution_count": 11,
     "metadata": {},
     "output_type": "execute_result"
    }
   ],
   "source": [
    "A = DaThucNoiSuyNewtonMocCachDeuThamSoT(x,y)\n",
    "A"
   ]
  },
  {
   "cell_type": "code",
   "execution_count": 12,
   "metadata": {},
   "outputs": [
    {
     "name": "stdout",
     "output_type": "stream",
     "text": [
      "5.390899652663925\n",
      "5.502037024193644\n",
      "5.563965616570968\n",
      "5.575878326178309\n",
      "5.537663340066289\n",
      "5.449905695518523\n",
      "5.313879147829198\n",
      "5.131528459398115\n"
     ]
    }
   ],
   "source": [
    "for i in range(0,len(t_ar)):\n",
    "    t = len(t_ar) - 1\n",
    "    sum = 0\n",
    "    for j in range(0,len(A)):\n",
    "        sum += (A[j]*(t_ar[i]**t))\n",
    "        t -= 1\n",
    "    print(sum)"
   ]
  },
  {
   "cell_type": "markdown",
   "metadata": {},
   "source": [
    "x = x0 + th -> t = (x-x0)/h.\n",
    "t' = 1 / h"
   ]
  },
  {
   "cell_type": "code",
   "execution_count": 59,
   "metadata": {},
   "outputs": [
    {
     "data": {
      "text/plain": [
       "15.237"
      ]
     },
     "execution_count": 59,
     "metadata": {},
     "output_type": "execute_result"
    }
   ],
   "source": [
    "num_x"
   ]
  },
  {
   "cell_type": "code",
   "execution_count": 61,
   "metadata": {},
   "outputs": [
    {
     "data": {
      "text/plain": [
       "np.float64(3.652542372881364)"
      ]
     },
     "execution_count": 61,
     "metadata": {},
     "output_type": "execute_result"
    }
   ],
   "source": [
    "x0 = x[0] # Lấy từ mảng x từ việc chọn mốc\n",
    "t = (num_x-x0)/h\n",
    "t"
   ]
  },
  {
   "cell_type": "markdown",
   "metadata": {},
   "source": [
    "Tính P(x = 15.237) = P(t = 3.652548)"
   ]
  },
  {
   "cell_type": "code",
   "execution_count": 64,
   "metadata": {},
   "outputs": [
    {
     "data": {
      "text/plain": [
       "(array([ 0.       , -0.       ,  0.0000002,  0.0000283, -0.0002015,\n",
       "        -0.0246224,  0.0453664,  5.5566023]),\n",
       " np.float64(5.556602251875762))"
      ]
     },
     "execution_count": 64,
     "metadata": {},
     "output_type": "execute_result"
    }
   ],
   "source": [
    "Horner(A,t)"
   ]
  },
  {
   "cell_type": "code",
   "execution_count": 66,
   "metadata": {},
   "outputs": [
    {
     "data": {
      "text/plain": [
       "([array([ 0.       , -0.       ,  0.0000002,  0.0000283, -0.0002015,\n",
       "         -0.0246224,  0.0453664,  5.5566023]),\n",
       "  array([ 0.       , -0.       ,  0.0000001,  0.0000287, -0.0000966,\n",
       "         -0.0249751, -0.0458562]),\n",
       "  array([ 0.       , -0.       ,  0.0000001,  0.000029 ,  0.0000093,\n",
       "         -0.0249412]),\n",
       "  array([ 0.       , -0.       ,  0.       ,  0.000029 ,  0.0001153]),\n",
       "  array([ 0.       , -0.       , -0.       ,  0.0000289]),\n",
       "  array([ 0.       , -0.       , -0.0000001]),\n",
       "  array([ 0., -0.]),\n",
       "  array([0.])],\n",
       " [np.float64(5.556602251875762),\n",
       "  np.float64(-0.045856229726877695),\n",
       "  np.float64(-0.04988245407051878),\n",
       "  np.float64(0.0006920630244074812),\n",
       "  np.float64(0.0006942382606130033),\n",
       "  np.float64(-9.624251545148688e-06),\n",
       "  np.float64(-9.617981617563502e-06),\n",
       "  np.float64(1.1310464298475154e-07)])"
      ]
     },
     "execution_count": 66,
     "metadata": {},
     "output_type": "execute_result"
    }
   ],
   "source": [
    "HornerTinhDaoHam(A,t)"
   ]
  },
  {
   "cell_type": "markdown",
   "metadata": {},
   "source": [
    "P'(x) = P'(t) t'(x)"
   ]
  },
  {
   "cell_type": "markdown",
   "metadata": {},
   "source": [
    "Tính P'(x = 15.237) = (1/h)*P'(t = 3.652548)"
   ]
  },
  {
   "cell_type": "code",
   "execution_count": 67,
   "metadata": {},
   "outputs": [
    {
     "name": "stdout",
     "output_type": "stream",
     "text": [
      "-0.388612116329472\n"
     ]
    }
   ],
   "source": [
    "_ , der = HornerTinhDaoHam(A,t)\n",
    "print((1/h)*der[1])"
   ]
  },
  {
   "cell_type": "markdown",
   "metadata": {},
   "source": [
    "Tính P''(x = 15.237)"
   ]
  },
  {
   "cell_type": "markdown",
   "metadata": {},
   "source": [
    "P''(x) = (P'(t)t'(x))' = P''(t)t'(x) + P'(t)t''(x) = P''(t)t'(x) = (1/h)P''(t)"
   ]
  },
  {
   "cell_type": "code",
   "execution_count": 68,
   "metadata": {},
   "outputs": [
    {
     "name": "stdout",
     "output_type": "stream",
     "text": [
      "-0.42273266161456596\n"
     ]
    }
   ],
   "source": [
    "print((1/h)*der[2])"
   ]
  }
 ],
 "metadata": {
  "kernelspec": {
   "display_name": "base",
   "language": "python",
   "name": "python3"
  },
  "language_info": {
   "codemirror_mode": {
    "name": "ipython",
    "version": 3
   },
   "file_extension": ".py",
   "mimetype": "text/x-python",
   "name": "python",
   "nbconvert_exporter": "python",
   "pygments_lexer": "ipython3",
   "version": "3.11.5"
  }
 },
 "nbformat": 4,
 "nbformat_minor": 2
}
