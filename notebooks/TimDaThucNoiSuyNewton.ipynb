{
 "cells": [
  {
   "cell_type": "code",
   "execution_count": 5,
   "metadata": {},
   "outputs": [],
   "source": [
    "import numpy as np\n",
    "from HUST_PPS import TinhTySaiPhan, TinhCyNewton, LapBangTichLagrange, DaThucNoiSuyNewton\n",
    "from HUST_PPS import ReadxyFromFile, FormatNumber"
   ]
  },
  {
   "cell_type": "markdown",
   "metadata": {},
   "source": [
    "Đa thức nội suy Newton tiến"
   ]
  },
  {
   "cell_type": "code",
   "execution_count": 6,
   "metadata": {},
   "outputs": [
    {
     "name": "stdout",
     "output_type": "stream",
     "text": [
      "[1.57 1.59 1.62 1.64 1.67 1.71 1.74]\n",
      "[2.4625 2.5857 2.772  2.897  3.086  3.3404 3.5328]\n"
     ]
    }
   ],
   "source": [
    "file_path = '/workspaces/HUST_PPS/files/TimDaThucNoiSuyNewton.txt' # Thay file_path\n",
    "x,y = ReadxyFromFile(file_path)\n",
    "print(x)\n",
    "print(y)"
   ]
  },
  {
   "cell_type": "code",
   "execution_count": 7,
   "metadata": {},
   "outputs": [],
   "source": [
    "FormatNumber(4)"
   ]
  },
  {
   "cell_type": "code",
   "execution_count": 8,
   "metadata": {},
   "outputs": [
    {
     "data": {
      "text/plain": [
       "array([[   1.57  ,    2.4625,    0.    ,    0.    ,    0.    ,    0.    ,\n",
       "           0.    ,    0.    ],\n",
       "       [   1.59  ,    2.5857,    6.16  ,    0.    ,    0.    ,    0.    ,\n",
       "           0.    ,    0.    ],\n",
       "       [   1.62  ,    2.772 ,    6.21  ,    1.    ,    0.    ,    0.    ,\n",
       "           0.    ,    0.    ],\n",
       "       [   1.64  ,    2.897 ,    6.25  ,    0.8   ,   -2.8571,    0.    ,\n",
       "           0.    ,    0.    ],\n",
       "       [   1.67  ,    3.086 ,    6.3   ,    1.    ,    2.5   ,   53.5714,\n",
       "           0.    ,    0.    ],\n",
       "       [   1.71  ,    3.3404,    6.36  ,    0.8571,   -1.5873,  -34.0608,\n",
       "        -625.9448,    0.    ],\n",
       "       [   1.74  ,    3.5328,    6.4133,    0.7619,   -0.9524,    5.291 ,\n",
       "         262.3457, 5225.2382]])"
      ]
     },
     "execution_count": 8,
     "metadata": {},
     "output_type": "execute_result"
    }
   ],
   "source": [
    "TinhTySaiPhan(x,y)"
   ]
  },
  {
   "cell_type": "code",
   "execution_count": null,
   "metadata": {},
   "outputs": [
    {
     "data": {
      "text/plain": [
       "array([   2.4625,    6.16  ,    1.    ,   -2.8571,   53.5714, -625.9448,\n",
       "       5225.2382])"
      ]
     },
     "execution_count": 9,
     "metadata": {},
     "output_type": "execute_result"
    }
   ],
   "source": [
    "TinhCyNewton(x,y)"
   ]
  },
  {
   "cell_type": "code",
   "execution_count": 10,
   "metadata": {},
   "outputs": [
    {
     "data": {
      "text/plain": [
       "array([[  0.    ,   0.    ,   0.    ,   0.    ,   0.    ,   0.    ,\n",
       "          1.    ],\n",
       "       [  0.    ,   0.    ,   0.    ,   0.    ,   0.    ,   1.    ,\n",
       "         -1.57  ],\n",
       "       [  0.    ,   0.    ,   0.    ,   0.    ,   1.    ,  -3.16  ,\n",
       "          2.4963],\n",
       "       [  0.    ,   0.    ,   0.    ,   1.    ,  -4.78  ,   7.6155,\n",
       "         -4.044 ],\n",
       "       [  0.    ,   0.    ,   1.    ,  -6.42  ,  15.4547, -16.5334,\n",
       "          6.6322],\n",
       "       [  0.    ,   1.    ,  -8.09  ,  26.1761, -42.3428,  34.243 ,\n",
       "        -11.0757],\n",
       "       [  1.    ,  -9.8   ,  40.01  , -87.1039, 106.6491, -69.6312,\n",
       "         18.9395]])"
      ]
     },
     "execution_count": 10,
     "metadata": {},
     "output_type": "execute_result"
    }
   ],
   "source": [
    "x_1 = x[0:len(x)-1]\n",
    "LapBangTichLagrange(x_1)"
   ]
  },
  {
   "cell_type": "code",
   "execution_count": 11,
   "metadata": {},
   "outputs": [
    {
     "data": {
      "text/plain": [
       "array([   5225.2382,  -51833.2796,  214179.2472, -471870.2408,\n",
       "        584613.975 , -386178.5122,  106258.2625])"
      ]
     },
     "execution_count": 11,
     "metadata": {},
     "output_type": "execute_result"
    }
   ],
   "source": [
    "DaThucNoiSuyNewton(x,y)"
   ]
  },
  {
   "cell_type": "markdown",
   "metadata": {},
   "source": [
    "Đa thức nội suy Newton lùi"
   ]
  },
  {
   "cell_type": "code",
   "execution_count": 12,
   "metadata": {},
   "outputs": [
    {
     "name": "stdout",
     "output_type": "stream",
     "text": [
      "[1.74 1.71 1.67 1.64 1.62 1.59 1.57]\n",
      "[3.5328 3.3404 3.086  2.897  2.772  2.5857 2.4625]\n"
     ]
    }
   ],
   "source": [
    "x1 = np.flip(x,axis=0)\n",
    "y1 = np.flip(y,axis=0)\n",
    "print(x1)\n",
    "print(y1)"
   ]
  },
  {
   "cell_type": "code",
   "execution_count": 13,
   "metadata": {},
   "outputs": [
    {
     "data": {
      "text/plain": [
       "array([[   1.74  ,    3.5328,    0.    ,    0.    ,    0.    ,    0.    ,\n",
       "           0.    ,    0.    ],\n",
       "       [   1.71  ,    3.3404,    6.4133,    0.    ,    0.    ,    0.    ,\n",
       "           0.    ,    0.    ],\n",
       "       [   1.67  ,    3.086 ,    6.36  ,    0.7619,    0.    ,    0.    ,\n",
       "           0.    ,    0.    ],\n",
       "       [   1.64  ,    2.897 ,    6.3   ,    0.8571,   -0.9524,    0.    ,\n",
       "           0.    ,    0.    ],\n",
       "       [   1.62  ,    2.772 ,    6.25  ,    1.    ,   -1.5873,    5.291 ,\n",
       "           0.    ,    0.    ],\n",
       "       [   1.59  ,    2.5857,    6.21  ,    0.8   ,    2.5   ,  -34.0608,\n",
       "         262.3457,    0.    ],\n",
       "       [   1.57  ,    2.4625,    6.16  ,    1.    ,   -2.8571,   53.5714,\n",
       "        -625.9448, 5225.2382]])"
      ]
     },
     "execution_count": 13,
     "metadata": {},
     "output_type": "execute_result"
    }
   ],
   "source": [
    "TinhTySaiPhan(x1,y1)"
   ]
  },
  {
   "cell_type": "code",
   "execution_count": 14,
   "metadata": {},
   "outputs": [
    {
     "data": {
      "text/plain": [
       "array([   3.5328,    6.4133,    0.7619,   -0.9524,    5.291 ,  262.3457,\n",
       "       5225.2382])"
      ]
     },
     "execution_count": 14,
     "metadata": {},
     "output_type": "execute_result"
    }
   ],
   "source": [
    "TinhCyNewton(x1,y1)"
   ]
  },
  {
   "cell_type": "code",
   "execution_count": 15,
   "metadata": {},
   "outputs": [
    {
     "data": {
      "text/plain": [
       "array([[  0.    ,   0.    ,   0.    ,   0.    ,   0.    ,   0.    ,\n",
       "          1.    ],\n",
       "       [  0.    ,   0.    ,   0.    ,   0.    ,   0.    ,   1.    ,\n",
       "         -1.57  ],\n",
       "       [  0.    ,   0.    ,   0.    ,   0.    ,   1.    ,  -3.16  ,\n",
       "          2.4963],\n",
       "       [  0.    ,   0.    ,   0.    ,   1.    ,  -4.78  ,   7.6155,\n",
       "         -4.044 ],\n",
       "       [  0.    ,   0.    ,   1.    ,  -6.42  ,  15.4547, -16.5334,\n",
       "          6.6322],\n",
       "       [  0.    ,   1.    ,  -8.09  ,  26.1761, -42.3428,  34.243 ,\n",
       "        -11.0757],\n",
       "       [  1.    ,  -9.8   ,  40.01  , -87.1039, 106.6491, -69.6312,\n",
       "         18.9395]])"
      ]
     },
     "execution_count": 15,
     "metadata": {},
     "output_type": "execute_result"
    }
   ],
   "source": [
    "x_1 = x[0:len(x1)-1]\n",
    "LapBangTichLagrange(x_1)"
   ]
  },
  {
   "cell_type": "code",
   "execution_count": 16,
   "metadata": {},
   "outputs": [
    {
     "data": {
      "text/plain": [
       "array([   5225.2382,  -51833.2796,  214179.2472, -471870.2408,\n",
       "        584613.975 , -386178.5122,  106258.2625])"
      ]
     },
     "execution_count": 16,
     "metadata": {},
     "output_type": "execute_result"
    }
   ],
   "source": [
    "A = DaThucNoiSuyNewton(x1,y1)\n",
    "A"
   ]
  },
  {
   "cell_type": "code",
   "execution_count": 17,
   "metadata": {},
   "outputs": [
    {
     "name": "stdout",
     "output_type": "stream",
     "text": [
      "2.4625000002706656\n",
      "2.5856999998359242\n",
      "2.772000000361004\n",
      "2.897000000361004\n",
      "3.086000000257627\n",
      "3.3404000000009546\n",
      "3.5328000006411457\n"
     ]
    }
   ],
   "source": [
    "for i in range(0,len(x)):\n",
    "    t = len(x) - 1\n",
    "    sum = 0\n",
    "    for j in range(0,len(A)):\n",
    "        sum += (A[j]*(x[i]**t))\n",
    "        t -= 1\n",
    "    print(sum)"
   ]
  }
 ],
 "metadata": {
  "kernelspec": {
   "display_name": "Python 3",
   "language": "python",
   "name": "python3"
  },
  "language_info": {
   "codemirror_mode": {
    "name": "ipython",
    "version": 3
   },
   "file_extension": ".py",
   "mimetype": "text/x-python",
   "name": "python",
   "nbconvert_exporter": "python",
   "pygments_lexer": "ipython3",
   "version": "3.12.1"
  }
 },
 "nbformat": 4,
 "nbformat_minor": 2
}
