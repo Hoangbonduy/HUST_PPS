{
 "cells": [
  {
   "cell_type": "code",
   "execution_count": 1,
   "metadata": {},
   "outputs": [],
   "source": [
    "import numpy as np\n",
    "from HUST_PPS import LapBangTichSterling, TinhCyChanSterling, TinhBangSaiPhanLeSterling, TinhCyLeSterling, DaThucNoiSuyTrungTamSterling\n",
    "from HUST_PPS import FormatNumber, ReadxyFromFile"
   ]
  },
  {
   "cell_type": "code",
   "execution_count": 2,
   "metadata": {},
   "outputs": [
    {
     "name": "stdout",
     "output_type": "stream",
     "text": [
      "[5.25  5.375 5.5   5.625 5.75  5.875 6.   ]\n",
      "[-3.2541 -3.4223 -3.5371 -3.5967 -3.6001 -3.5474 -3.4393]\n"
     ]
    }
   ],
   "source": [
    "file_path = 'D:/Study/2024.1/PPS/HUST_PPS/files/TimDaThucNoiSuyTrungTamSterling.txt' # Thay file_path\n",
    "x,y = ReadxyFromFile(file_path)\n",
    "print(x)\n",
    "print(y)"
   ]
  },
  {
   "cell_type": "code",
   "execution_count": 3,
   "metadata": {},
   "outputs": [],
   "source": [
    "# FormatNumber(6)"
   ]
  },
  {
   "cell_type": "code",
   "execution_count": 4,
   "metadata": {},
   "outputs": [
    {
     "data": {
      "text/plain": [
       "array([[ 0.,  0.,  1.],\n",
       "       [ 0.,  1., -1.],\n",
       "       [ 1., -5.,  4.]])"
      ]
     },
     "execution_count": 4,
     "metadata": {},
     "output_type": "execute_result"
    }
   ],
   "source": [
    "LapBangTichSterling(len(x)) # Theo các số chính phương (VD: 1,4,9,...)"
   ]
  },
  {
   "cell_type": "code",
   "execution_count": 5,
   "metadata": {},
   "outputs": [
    {
     "data": {
      "text/plain": [
       "array([-3.59670000e+00,  2.81000000e-02, -4.58333333e-05,  1.11111111e-06])"
      ]
     },
     "execution_count": 5,
     "metadata": {},
     "output_type": "execute_result"
    }
   ],
   "source": [
    "TinhCyChanSterling(x,y,len(x))"
   ]
  },
  {
   "cell_type": "code",
   "execution_count": 6,
   "metadata": {},
   "outputs": [
    {
     "data": {
      "text/plain": [
       "array([-0.0315 ,  0.00045,  0.0001 ])"
      ]
     },
     "execution_count": 6,
     "metadata": {},
     "output_type": "execute_result"
    }
   ],
   "source": [
    "TinhBangSaiPhanLeSterling(x,y,len(x))"
   ]
  },
  {
   "cell_type": "code",
   "execution_count": 7,
   "metadata": {},
   "outputs": [
    {
     "data": {
      "text/plain": [
       "array([-3.15000000e-02,  7.50000000e-05,  8.33333333e-07])"
      ]
     },
     "execution_count": 7,
     "metadata": {},
     "output_type": "execute_result"
    }
   ],
   "source": [
    "TinhCyLeSterling(x,y,len(x))"
   ]
  },
  {
   "cell_type": "code",
   "execution_count": 8,
   "metadata": {},
   "outputs": [
    {
     "data": {
      "text/plain": [
       "array([ 1.11111111e-06,  8.33333333e-07, -5.13888889e-05,  7.08333333e-05,\n",
       "        2.81502778e-02, -3.15716667e-02, -3.59670000e+00])"
      ]
     },
     "execution_count": 8,
     "metadata": {},
     "output_type": "execute_result"
    }
   ],
   "source": [
    "DaThucNoiSuyTrungTamSterling(x,y,len(x))"
   ]
  }
 ],
 "metadata": {
  "kernelspec": {
   "display_name": "base",
   "language": "python",
   "name": "python3"
  },
  "language_info": {
   "codemirror_mode": {
    "name": "ipython",
    "version": 3
   },
   "file_extension": ".py",
   "mimetype": "text/x-python",
   "name": "python",
   "nbconvert_exporter": "python",
   "pygments_lexer": "ipython3",
   "version": "3.11.5"
  }
 },
 "nbformat": 4,
 "nbformat_minor": 2
}
